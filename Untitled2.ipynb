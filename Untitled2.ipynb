{
 "cells": [
  {
   "cell_type": "markdown",
   "metadata": {},
   "source": [
    "# Chapter 2: Modeling Computation"
   ]
  },
  {
   "cell_type": "markdown",
   "metadata": {},
   "source": [
    "## JK Flip Flop"
   ]
  },
  {
   "cell_type": "code",
   "execution_count": null,
   "metadata": {
    "collapsed": true
   },
   "outputs": [],
   "source": []
  },
  {
   "cell_type": "code",
   "execution_count": 148,
   "metadata": {
    "collapsed": true
   },
   "outputs": [],
   "source": [
    "from __future__ import print_function\n",
    "from ipywidgets import interact, interactive, fixed, interact_manual\n",
    "import ipywidgets as widgets\n",
    "\n",
    "import numpy as np\n",
    "import matplotlib.pyplot as plt\n",
    "\n",
    "from IPython.display import Javascript"
   ]
  },
  {
   "cell_type": "code",
   "execution_count": 123,
   "metadata": {},
   "outputs": [
    {
     "data": {
      "application/vnd.jupyter.widget-view+json": {
       "model_id": "bdcae6f001cd4893ae6b1421bac56943",
       "version_major": 2,
       "version_minor": 0
      },
      "text/plain": [
       "A Jupyter Widget"
      ]
     },
     "metadata": {},
     "output_type": "display_data"
    },
    {
     "data": {
      "text/plain": [
       "<function __main__.setVar>"
      ]
     },
     "execution_count": 123,
     "metadata": {},
     "output_type": "execute_result"
    }
   ],
   "source": [
    "clk = np.zeros(20)\n",
    "JVar = np.zeros(20)\n",
    "KVar = np.zeros(20)\n",
    "QVar = np.zeros(20)\n",
    "\n",
    "for i in range(0, 20):\n",
    "    JVar[i] = 4\n",
    "    KVar[i] = 2\n",
    "    QVar[i] = 6\n",
    "\n",
    "def setVar(J, K, Q):\n",
    "    global JVar\n",
    "    if J:\n",
    "        JVar[0] = 5\n",
    "    global KVar\n",
    "    if K:\n",
    "        KVar[0] = 3\n",
    "    global QVar\n",
    "    if Q:\n",
    "        QVar[0] = 7\n",
    "    \n",
    "    print(\"You have chosen the following initial condition:\")\n",
    "    \n",
    "    return J, K, Q\n",
    "\n",
    "interact(setVar, J=False, K=False, Q=False)"
   ]
  },
  {
   "cell_type": "code",
   "execution_count": 130,
   "metadata": {},
   "outputs": [
    {
     "data": {
      "image/png": "[encoded data removed]",
      "text/plain": [
       "<matplotlib.figure.Figure at 0x98e13c8>"
      ]
     },
     "metadata": {},
     "output_type": "display_data"
    }
   ],
   "source": [
    "l = np.zeros(20)\n",
    "\n",
    "for i in range(0, 20):\n",
    "    l[i] = i\n",
    "\n",
    "def jkFlipFlop():\n",
    "    for i in range(0, 20):\n",
    "        if(clk[i] == 0):\n",
    "            if((i+1) < 20):\n",
    "                clk[i+1] = 1\n",
    "            if((JVar[i] == 5) & (KVar[i] == 3)):\n",
    "                if QVar[i] == 7:\n",
    "                    QVar[i] = 6\n",
    "                else:\n",
    "                    QVar[i] = 7\n",
    "            elif((JVar[i] == 5) & (KVar[i] == 3)):\n",
    "                QVar[i] = 6\n",
    "            elif((JVar[i] == 5) & (KVar[i] == 2)):\n",
    "                QVar[i] = 7\n",
    "        else:\n",
    "            if((i+1) < 20):\n",
    "                clk[i+1] = 0\n",
    "           \n",
    "jkFlipFlop()\n",
    "plt.plot(l, clk, label=\"clk\")\n",
    "plt.plot(l, QVar, label=\"Q\")\n",
    "plt.plot(l, JVar, label=\"J\")\n",
    "plt.plot(l, KVar, label=\"K\")\n",
    "\n",
    "plt.legend(loc=1)\n",
    "\n",
    "plt.show()"
   ]
  },
  {
   "cell_type": "markdown",
   "metadata": {},
   "source": [
    "## Using Dijkstra Token Ring Algorithm to understand the differences between synchronous and asynchronous systems"
   ]
  },
  {
   "cell_type": "markdown",
   "metadata": {},
   "source": [
    "Dijakstra Token Ring Algorithm (the asynchronous model) is a system that self-stabilizes i.e. this system will end up in a stable state eventually.\n",
    "\n",
    "One way to observe the difference between synchronous and asynchronous algorithm is to study these two variations of Dijakstra Token Ring Algorithm. In the asynchronous model, any of the given token cells can be updated and the choice of the token to be updated depends on external factors (Note that the algorithm implemented here just finds the first token and then updates it). On the other hand, in a synchronous model, every process that is a token must be updated in every cycle.\n",
    "\n",
    "Instructions:\n",
    "For the following activity, first choose the number of processes in the system (from 1 to 10) and then select the initial states of each of the processes. Once finished, click on the \"Create Graphs\" button to generate a graph for both synchronous and asynchronous models of the algorithm.\n",
    "\n",
    "Points to observe:\n"
   ]
  },
  {
   "cell_type": "code",
   "execution_count": 175,
   "metadata": {},
   "outputs": [
    {
     "data": {
      "application/vnd.jupyter.widget-view+json": {
       "model_id": "a21d3ed21138484f91f97051d42fc7db",
       "version_major": 2,
       "version_minor": 0
      },
      "text/plain": [
       "A Jupyter Widget"
      ]
     },
     "metadata": {},
     "output_type": "display_data"
    },
    {
     "data": {
      "application/vnd.jupyter.widget-view+json": {
       "model_id": "10f8d61de22c4f99b702d1b7a4809a83",
       "version_major": 2,
       "version_minor": 0
      },
      "text/plain": [
       "A Jupyter Widget"
      ]
     },
     "metadata": {},
     "output_type": "display_data"
    },
    {
     "data": {
      "application/javascript": [
       "IPython.notebook.execute_cell_range(IPython.notebook.get_selected_index()+1, IPython.notebook.ncells())"
      ],
      "text/plain": [
       "<IPython.core.display.Javascript object>"
      ]
     },
     "metadata": {},
     "output_type": "display_data"
    }
   ],
   "source": [
    "#@hidden_cell\n",
    "\n",
    "num = 0\n",
    "state = np.zeros(num)\n",
    "\n",
    "def createGraph(ev):\n",
    "    display(Javascript('IPython.notebook.execute_cell_range(IPython.notebook.get_selected_index()+1, IPython.notebook.ncells())'))\n",
    "\n",
    "def set(x,k):\n",
    "    global state\n",
    "    state[k] = x\n",
    "    return\n",
    "\n",
    "def setVar(number):\n",
    "    global num\n",
    "    global state\n",
    "    num = number\n",
    "    state = np.zeros(num)\n",
    "    for i in range(0,num):\n",
    "        interact(set, x=widgets.IntSlider(min=0, max=num, step=1), k=fixed(i))\n",
    "    return number\n",
    "\n",
    "interact(setVar, number=widgets.BoundedIntText(min=1, max=10, description=\"Processes\"))\n",
    "\n",
    "button = widgets.Button(description=\"Create Graphs\")\n",
    "button.on_click(createGraph)\n",
    "display(button)"
   ]
  },
  {
   "cell_type": "markdown",
   "metadata": {},
   "source": [
    "### Asynchronous Dijakstra's Token Ring Algorithm"
   ]
  },
  {
   "cell_type": "code",
   "execution_count": 176,
   "metadata": {},
   "outputs": [
    {
     "data": {
      "image/png": "[encoded data removed]",
      "text/plain": [
       "<matplotlib.figure.Figure at 0xc24f748>"
      ]
     },
     "metadata": {},
     "output_type": "display_data"
    }
   ],
   "source": [
    "x = np.linspace(0, num, num)\n",
    "y = np.zeros((num, num))\n",
    "\n",
    "def tokenRingAlg():\n",
    "    count = 0\n",
    "    global num\n",
    "    global state\n",
    "    global x\n",
    "    while(count < num):\n",
    "        for i in range(0, num):\n",
    "            if((i == 0) & (state[0] == state[num-1])):\n",
    "                state[0] = (state[0]+1)%num\n",
    "                break\n",
    "            if((i > 0) & (state[i] != state[i-1])):\n",
    "                state[i] = state[i-1]\n",
    "                break\n",
    "        plt.plot(x, state+num*count, label=\"x\"+str(count))\n",
    "        count = count + 1    \n",
    "\n",
    "tokenRingAlg()\n",
    "plt.legend(loc=1)\n",
    "plt.show()"
   ]
  },
  {
   "cell_type": "markdown",
   "metadata": {},
   "source": [
    "### Synchronous Dijakstra Token Ring Algorithm"
   ]
  },
  {
   "cell_type": "code",
   "execution_count": 177,
   "metadata": {},
   "outputs": [
    {
     "data": {
      "image/png": "[encoded data removed]",
      "text/plain": [
       "<matplotlib.figure.Figure at 0xa767898>"
      ]
     },
     "metadata": {},
     "output_type": "display_data"
    }
   ],
   "source": [
    "def tokenRingAlgSync():\n",
    "    count = 0\n",
    "    global num\n",
    "    global state\n",
    "    global x\n",
    "    while(count < num):\n",
    "        for i in range(0, num):\n",
    "            if((i == 0) & (state[0] == state[num-1])):\n",
    "                state[0] = (state[0]+1)%num\n",
    "            if((i > 0) & (state[i] != state[i-1])):\n",
    "                state[i] = state[i-1]\n",
    "        plt.plot(x, state+num*count, label=\"x\"+str(count))\n",
    "        count = count + 1   \n",
    "        \n",
    "tokenRingAlgSync()\n",
    "plt.legend(loc=1)\n",
    "plt.show()"
   ]
  }
 ],
 "metadata": {
  "kernelspec": {
   "display_name": "Python 2",
   "language": "python",
   "name": "python2"
  },
  "language_info": {
   "codemirror_mode": {
    "name": "ipython",
    "version": 2
   },
   "file_extension": ".py",
   "mimetype": "text/x-python",
   "name": "python",
   "nbconvert_exporter": "python",
   "pygments_lexer": "ipython2",
   "version": "2.7.13"
  }
 },
 "nbformat": 4,
 "nbformat_minor": 2
}
